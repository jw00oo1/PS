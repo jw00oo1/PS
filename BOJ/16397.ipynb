{
 "cells": [
  {
   "cell_type": "code",
   "execution_count": 47,
   "id": "incoming-taiwan",
   "metadata": {},
   "outputs": [
    {
     "name": "stdout",
     "output_type": "stream",
     "text": [
      "63429 99999 231\n"
     ]
    }
   ],
   "source": [
    "N, T, G = input().split(' ')\n",
    "N = int(N)\n",
    "T = int(T)\n",
    "G = int(G)"
   ]
  },
  {
   "cell_type": "code",
   "execution_count": 50,
   "id": "juvenile-specific",
   "metadata": {},
   "outputs": [
    {
     "name": "stdout",
     "output_type": "stream",
     "text": [
      "ANG\n"
     ]
    }
   ],
   "source": [
    "queue = [N]\n",
    "s1 = set()\n",
    "answer = -1\n",
    "\n",
    "for i in range(T+1):\n",
    "    for j in range(len(queue)):\n",
    "        number = queue.pop(0)\n",
    "        s1.add(number)            \n",
    "                \n",
    "        if number == G:\n",
    "            answer = i\n",
    "            break\n",
    "        \n",
    "        A = number + 1\n",
    "\n",
    "        if A <= 99999 and not(A in s1):\n",
    "            queue.append(A)\n",
    "            s1.add(A)\n",
    "        \n",
    "        B = number * 2\n",
    "        tmp= str(B)\n",
    "        B = B - pow(10, len(tmp)-1)\n",
    "        if (number * 2) <= 99999 and number > 0 and not(B in s1):\n",
    "            queue.append(B)\n",
    "            s1.add(B)\n",
    "            \n",
    "    if answer >= 0:\n",
    "        break\n",
    "\n",
    "if answer < 0:\n",
    "    print(\"ANG\")\n",
    "else:\n",
    "    print(answer)"
   ]
  },
  {
   "cell_type": "code",
   "execution_count": null,
   "id": "aggregate-scheduling",
   "metadata": {},
   "outputs": [],
   "source": []
  }
 ],
 "metadata": {
  "kernelspec": {
   "display_name": "Python 3",
   "language": "python",
   "name": "python3"
  },
  "language_info": {
   "codemirror_mode": {
    "name": "ipython",
    "version": 3
   },
   "file_extension": ".py",
   "mimetype": "text/x-python",
   "name": "python",
   "nbconvert_exporter": "python",
   "pygments_lexer": "ipython3",
   "version": "3.8.8"
  }
 },
 "nbformat": 4,
 "nbformat_minor": 5
}
